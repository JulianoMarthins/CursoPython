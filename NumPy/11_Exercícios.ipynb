{
 "cells": [
  {
   "cell_type": "markdown",
   "metadata": {},
   "source": [
    "## Exercício\n",
    "\n",
    "Você é um gerente de vendas e tem os dados de vendas de três produtos diferentes (Produto A, Produto B, Produto C) para os últimos 5 dias em um array 2D NumPy. Cada linha do array representa um produto e cada coluna representa um dia. Seu trabalho é calcular as vendas totais para cada produto e para cada dia.\n",
    "\n",
    "Use o seguinte array para sua análise:\n",
    "\n",
    "```python\n",
    "vendas = np.array([[50, 60, 70, 65, 80],\n",
    "                   [85, 90, 78, 92, 88],\n",
    "                   [72, 75, 68, 77, 76]])\n",
    "```\n",
    "\n",
    "**Solução:**\n"
   ]
  },
  {
   "cell_type": "code",
   "execution_count": 1,
   "metadata": {
    "ExecuteTime": {
     "end_time": "2023-07-03T12:12:12.700234800Z",
     "start_time": "2023-07-03T12:12:12.677347900Z"
    },
    "collapsed": false,
    "jupyter": {
     "outputs_hidden": false
    }
   },
   "outputs": [
    {
     "name": "stdout",
     "output_type": "stream",
     "text": [
      "Produto A: R$ 325.00\n",
      "Produto B: R$ 433.00\n",
      "Produto C: R$ 368.00\n",
      "\n",
      "Vendas 1° dia: R$ 207.00\n",
      "Vendas 2° dia: R$ 225.00\n",
      "Vendas 3° dia: R$ 216.00\n",
      "Vendas 4° dia: R$ 234.00\n",
      "Vendas 5° dia: R$ 244.00\n"
     ]
    }
   ],
   "source": [
    "import numpy as np\n",
    "\n",
    "vendas = np.array([[50, 60, 70, 65, 80],\n",
    "                   [85, 90, 78, 92, 88],\n",
    "                   [72, 75, 68, 77, 76]])\n",
    "\n",
    "# Calcular as vendas totais por produto\n",
    "vendas_produto = vendas.sum(axis=1)\n",
    "\n",
    "# Calcular as vendas totais por dia\n",
    "vendas_dia = vendas.sum(axis=0)\n",
    "\n",
    "print(f'Produto A: R$ {vendas_produto[0]:.2f}')\n",
    "print(f'Produto B: R$ {vendas_produto[1]:.2f}')\n",
    "print(f'Produto C: R$ {vendas_produto[2]:.2f}')\n",
    "\n",
    "\n",
    "\n",
    "print()\n",
    "for i, vendas in enumerate(vendas_dia):\n",
    "    print(f'Vendas {i + 1}° dia: R$ {vendas_dia[i]:.2f}')\n",
    "    "
   ]
  }
 ],
 "metadata": {
  "kernelspec": {
   "display_name": "Python 3 (ipykernel)",
   "language": "python",
   "name": "python3"
  },
  "language_info": {
   "codemirror_mode": {
    "name": "ipython",
    "version": 3
   },
   "file_extension": ".py",
   "mimetype": "text/x-python",
   "name": "python",
   "nbconvert_exporter": "python",
   "pygments_lexer": "ipython3",
   "version": "3.12.0"
  }
 },
 "nbformat": 4,
 "nbformat_minor": 4
}
