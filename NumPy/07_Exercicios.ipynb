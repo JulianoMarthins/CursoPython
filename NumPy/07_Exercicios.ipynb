{
 "cells": [
  {
   "cell_type": "markdown",
   "metadata": {},
   "source": [
    "## Exercício\n",
    "\n",
    "Você é um analista de RH e tem os salários de todos os funcionários da sua empresa em um array NumPy. Seu trabalho é identificar quantos funcionários ganham acima da média. Use o seguinte array para sua análise: `salarios = np.array([3000, 2500, 3500, 4000, 2000, 4500, 3000, 3800, 4800])`."
   ]
  },
  {
   "cell_type": "code",
   "execution_count": 2,
   "metadata": {
    "ExecuteTime": {
     "end_time": "2023-07-03T17:58:55.261401600Z",
     "start_time": "2023-07-03T17:58:55.249755Z"
    },
    "collapsed": false,
    "jupyter": {
     "outputs_hidden": false
    }
   },
   "outputs": [
    {
     "name": "stdout",
     "output_type": "stream",
     "text": [
      "A empresa possui 5 funcionários com salários acima da média\n"
     ]
    }
   ],
   "source": [
    "import numpy as np\n",
    "\n",
    "salarios = np.array([3000, 2500, 3500, 4000, 2000, 4500, 3000, 3800, 4800])\n",
    "\n",
    "media = np.mean(salarios)\n",
    "acima_media = np.where(salarios > media)\n",
    "\n",
    "print('A empresa possui {} funcionários com salários acima da média'\\\n",
    "      .format(np.size(acima_media)))"
   ]
  },
  {
   "cell_type": "markdown",
   "metadata": {},
   "source": [
    "Crie um programa que gere vinte valores que sejam os salários dos funcionários de uma empresa, este valor deve ser fixo para que qualquer pessoa que consulte seu sistema, possa realizar a pesquisa sobre os mesmos salários\n",
    "\n",
    "Ao final, retorne ao usuário a estatisticas dos salarios com as informações da média salarial da empresa, o maior e o menor salário"
   ]
  },
  {
   "cell_type": "markdown",
   "metadata": {},
   "source": [
    "Uso Pessoa...\n",
    "\n",
    "O código passado no parâmetro do gerador de salários, 'endpoint' serve para que todos os elementos gerados no array seja análisados nas estruturas abaixo.\n",
    "\n",
    "O que isso quer dizer?\n",
    "\n",
    "Se gerarmos os números com o gerador sem passar aquele parâmetro, ele será considerado falso, quando analisarmos o maior salário, o NumPy desconsiderará o maior salário pois a interpretação do NumPy é exatamente como nós acessamos indices dos iteráveis, o último valor sempre será excluso.\n",
    "\n",
    "Passa o parâmetro como True, será incluso o maior valor do array no análise do maior salário do array de salário dos funcionários. "
   ]
  },
  {
   "cell_type": "code",
   "execution_count": 27,
   "metadata": {},
   "outputs": [
    {
     "name": "stdout",
     "output_type": "stream",
     "text": [
      "Salários: \n",
      "[2249 4167 3833 3229 3212 4404 2240 3953 2564 2263 3474 4732 4060 4131\n",
      " 4009 4201 3437 2358 4352 3261]\n",
      "\n",
      "Menor salário: R$ 2240.00\n",
      "Maior salário: R$ 4732.00\n",
      "Média salárial: R$ 3506.45\n"
     ]
    }
   ],
   "source": [
    "rng = np.random.default_rng(seed=42)\n",
    "\n",
    "salario_gerados = rng.integers(\n",
    "    low=np.min(salarios), high=np.max(salarios), size=20, endpoint=True\n",
    "    )\n",
    "\n",
    "menor = float(np.min(salario_gerados))\n",
    "maior = float(np.max(salario_gerados))\n",
    "media = float(np.mean(salario_gerados))\n",
    "\n",
    "print(f'Salários: \\n{(salario_gerados)}')\n",
    "print(f'\\nMenor salário: R$ {menor:.2f}')\n",
    "print(f'Maior salário: R$ {maior:.2f}')\n",
    "print(f'Média salárial: R$ {media:.2f}')"
   ]
  },
  {
   "cell_type": "code",
   "execution_count": null,
   "metadata": {},
   "outputs": [],
   "source": []
  }
 ],
 "metadata": {
  "kernelspec": {
   "display_name": "Python 3 (ipykernel)",
   "language": "python",
   "name": "python3"
  },
  "language_info": {
   "codemirror_mode": {
    "name": "ipython",
    "version": 3
   },
   "file_extension": ".py",
   "mimetype": "text/x-python",
   "name": "python",
   "nbconvert_exporter": "python",
   "pygments_lexer": "ipython3",
   "version": "3.12.0"
  }
 },
 "nbformat": 4,
 "nbformat_minor": 4
}
