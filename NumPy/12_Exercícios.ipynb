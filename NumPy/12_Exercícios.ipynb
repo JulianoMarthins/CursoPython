{
 "cells": [
  {
   "cell_type": "markdown",
   "metadata": {},
   "source": [
    "## Exercício\n",
    "\n",
    "Você é um analista de dados em uma empresa e conduziu uma pesquisa de satisfação do cliente durante uma semana. Você perguntou as clientes para classificar seu nível de satisfação com o serviço ao cliente em uma escala de 0 a 10. Você coletou respostas de 30 clientes por dia durante 7 dias, resultando em um total de 210 respostas.\n",
    "\n",
    "No entanto, os dados que você recebeu estão em um array 1D de 210 elementos. Reorganize os dados de forma a ter as respostas por dia e faça uma análise descritiva básica, calculando a média geral de satisfação e a média diária."
   ]
  },
  {
   "cell_type": "code",
   "execution_count": 9,
   "metadata": {
    "ExecuteTime": {
     "end_time": "2023-07-03T12:12:12.700234800Z",
     "start_time": "2023-07-03T12:12:12.677347900Z"
    },
    "collapsed": false,
    "jupyter": {
     "outputs_hidden": false
    }
   },
   "outputs": [
    {
     "name": "stdout",
     "output_type": "stream",
     "text": [
      "Média: 5.15\n",
      "Média no 1° dia: 4.57\n",
      "Média no 2° dia: 5.86\n",
      "Média no 3° dia: 5.57\n",
      "Média no 4° dia: 6.29\n",
      "Média no 5° dia: 4.43\n",
      "Média no 6° dia: 5.14\n",
      "Média no 7° dia: 5.71\n",
      "Média no 8° dia: 4.57\n",
      "Média no 9° dia: 6.29\n",
      "Média no 10° dia: 5.00\n",
      "Média no 11° dia: 4.43\n",
      "Média no 12° dia: 5.57\n",
      "Média no 13° dia: 5.43\n",
      "Média no 14° dia: 6.00\n",
      "Média no 15° dia: 5.00\n",
      "Média no 16° dia: 6.57\n",
      "Média no 17° dia: 3.57\n",
      "Média no 18° dia: 5.57\n",
      "Média no 19° dia: 4.57\n",
      "Média no 20° dia: 4.29\n",
      "Média no 21° dia: 5.43\n",
      "Média no 22° dia: 5.14\n",
      "Média no 23° dia: 5.86\n",
      "Média no 24° dia: 4.43\n",
      "Média no 25° dia: 3.71\n",
      "Média no 26° dia: 5.43\n",
      "Média no 27° dia: 4.00\n",
      "Média no 28° dia: 5.00\n",
      "Média no 29° dia: 5.00\n",
      "Média no 30° dia: 6.00\n"
     ]
    }
   ],
   "source": [
    "import numpy as np\n",
    "\n",
    "# considere os seguintes dados aleatórios como início\n",
    "rng = np.random.default_rng(seed=42)\n",
    "respostas = rng.integers(low=0, high=10, size=210, endpoint=True)\n",
    "\n",
    "pesquisa = np.reshape(respostas, (30, 7))\n",
    "\n",
    "# Média geral\n",
    "media_geral = np.mean(pesquisa)\n",
    "print(f'Média: {media_geral:.2f}')\n",
    "\n",
    "# Média diária\n",
    "media_diaria = pesquisa.mean(axis=1)\n",
    "\n",
    "for i, valor in enumerate(media_diaria):\n",
    "    print(f'Média no {i + 1}° dia: {valor:.2f}')\n",
    "\n"
   ]
  },
  {
   "cell_type": "markdown",
   "metadata": {},
   "source": [
    "O seguinte modelo pode ser pensado para os dados recebidos:\n",
    "\n",
    "    dia 1 cliente 1, dia 1 cliente 2, dia 1 cliente 3, ...\n",
    "    ... dia 7 cliente 28, dia 7 cliente 29, dia 7 cliente 30\n",
    "    \n",
    "Assim, podemos fazer um reshape:"
   ]
  }
 ],
 "metadata": {
  "kernelspec": {
   "display_name": "Python 3 (ipykernel)",
   "language": "python",
   "name": "python3"
  },
  "language_info": {
   "codemirror_mode": {
    "name": "ipython",
    "version": 3
   },
   "file_extension": ".py",
   "mimetype": "text/x-python",
   "name": "python",
   "nbconvert_exporter": "python",
   "pygments_lexer": "ipython3",
   "version": "3.12.0"
  }
 },
 "nbformat": 4,
 "nbformat_minor": 4
}
