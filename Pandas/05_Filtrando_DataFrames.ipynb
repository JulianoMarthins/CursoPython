{
 "cells": [
  {
   "cell_type": "code",
   "execution_count": 9,
   "metadata": {},
   "outputs": [],
   "source": [
    "import pandas as pd\n",
    "\n",
    "# Lendo os arquivos CSV da empresa\n",
    "vendas_df = pd.read_csv(r'Contoso - Vendas - 2017.csv', sep=';')\n",
    "produtos_df = pd.read_csv(r'Contoso - Cadastro Produtos.csv', sep=';', encoding='ISO8859-1')\n",
    "lojas_df = pd.read_csv(r'D:Contoso - Lojas.csv', sep=';', encoding='ISO8859-1')\n",
    "cliente_df = pd.read_csv(r'Contoso - Clientes.csv', sep=';', encoding='ISO8859-1')\n",
    "\n",
    "# Renomeando colunas para padronizar as tabelas\n",
    "produtos_df = produtos_df.rename(columns={'ÿNome do Produto': 'Nome Produto'})\n",
    "lojas_df = lojas_df.rename(columns={'ÿID Loja': 'ID Loja'})\n",
    "cliente_df = cliente_df.rename(columns={'ÿID Cliente': \"ID Cliente\"})\n",
    "cliente_df = cliente_df.rename(columns={'E-mail': 'E-mail do Cliente'})\n",
    "\n",
    "\n",
    "# Filtrando colunas necessárias a tabela\n",
    "cliente_df = cliente_df[['ID Cliente', 'E-mail do Cliente']]\n",
    "produtos_df = produtos_df[['ID Produto', 'Nome Produto']]\n",
    "lojas_df = lojas_df[['ID Loja', 'Nome da Loja']]\n",
    "\n",
    "# Associando as tabelas pela ID\n",
    "vendas_df = vendas_df.merge(produtos_df, on='ID Produto')\n",
    "vendas_df = vendas_df.merge(lojas_df, on='ID Loja')\n",
    "vendas_df = vendas_df.merge(cliente_df, on='ID Cliente')\n",
    "\n"
   ]
  },
  {
   "cell_type": "markdown",
   "metadata": {},
   "source": [
    "Abaixo, somaremos todos os elementos da coluna de quantidades vendidas, e de quantidades devolvida, após, retornaremos\n",
    "ao usuário a porcentagem de produtos devolvidos em todas as lojas da tabela."
   ]
  },
  {
   "cell_type": "code",
   "execution_count": 25,
   "metadata": {},
   "outputs": [
    {
     "name": "stdout",
     "output_type": "stream",
     "text": [
      "Devoluções: 1.17%\n"
     ]
    }
   ],
   "source": [
    "qnt_vendida = vendas_df['Quantidade Vendida'].sum()\n",
    "qnt_devolvidas = vendas_df['Quantidade Devolvida'].sum()\n",
    "\n",
    "print('Devoluções: {:.2%}'.format(qnt_devolvidas / qnt_vendida))"
   ]
  },
  {
   "cell_type": "markdown",
   "metadata": {},
   "source": [
    "Abaixo, nós filtraremos os elementos por loja, para depois, somar os valores vendidos e devolvidos podendo assim, retornar\n",
    "ao usuário a porcentagem de devolulção específica de cada loja."
   ]
  },
  {
   "cell_type": "code",
   "execution_count": 26,
   "metadata": {},
   "outputs": [
    {
     "name": "stdout",
     "output_type": "stream",
     "text": [
      "Dados das lojas Contoso\n",
      "Filial Europeon Line\n",
      "\n",
      "Devoluções: 1.33%\n"
     ]
    }
   ],
   "source": [
    "# A variável recebe uma tabela com as informação da loja 306, no caso , loja contoso europeon line\n",
    "vendas_lojas_europeonline = vendas_df[vendas_df['ID Loja'] == 306]\n",
    "\n",
    "\n",
    "qnt_vend_europeon = vendas_lojas_europeonline['Quantidade Vendida'].sum()\n",
    "qnt_dev_europeon = vendas_lojas_europeonline['Quantidade Devolvida'].sum()\n",
    "\n",
    "print('Dados das lojas Contoso\\nFilial Europeon Line')                                                                                                                                                                                                                                                                                                                                                                                                                                                                                                                                                                                                                                                                                                                                                                                                                                                                                                                                                                                                                                                                                                                                                                                                                                                                                                                                                                                                                                                                                                                                                                                                                                                                                                                                                                                                                                                                                                                                                                                                                                                                                                                                                                                                                                                                                                  \n",
    "print(f'\\nDevoluções: {qnt_dev_europeon / qnt_vend_europeon:.2%}')"
   ]
  },
  {
   "cell_type": "markdown",
   "metadata": {},
   "source": [
    "Desafio\n",
    "\n",
    "Crie uma tabela que retorne as vendas da loja contoso europeon line, porém, não deve ser contabilidade as vendas onde\n",
    "registre a devolução do produto"
   ]
  },
  {
   "cell_type": "code",
   "execution_count": 36,
   "metadata": {},
   "outputs": [
    {
     "data": {
      "text/plain": [
       "'Quantidade de vendas nas lojas Europeon Line: 481657'"
      ]
     },
     "metadata": {},
     "output_type": "display_data"
    }
   ],
   "source": [
    "loja_306 = vendas_df[(vendas_df['ID Loja'] == 306) & (vendas_df['Quantidade Devolvida'] == 0)]\n",
    "\n",
    "vendas_306 = loja_306['Quantidade Vendida'].sum()\n",
    "\n",
    "display(f'Quantidade de vendas nas lojas Europeon Line: {vendas_306}')"
   ]
  }
 ],
 "metadata": {
  "kernelspec": {
   "display_name": "Python 3",
   "language": "python",
   "name": "python3"
  },
  "language_info": {
   "codemirror_mode": {
    "name": "ipython",
    "version": 3
   },
   "file_extension": ".py",
   "mimetype": "text/x-python",
   "name": "python",
   "nbconvert_exporter": "python",
   "pygments_lexer": "ipython3",
   "version": "3.12.0"
  }
 },
 "nbformat": 4,
 "nbformat_minor": 2
}
