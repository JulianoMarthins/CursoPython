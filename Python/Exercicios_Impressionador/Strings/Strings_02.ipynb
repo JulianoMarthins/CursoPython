{
 "cells": [
  {
   "cell_type": "markdown",
   "id": "2b04bbea",
   "metadata": {},
   "source": [
    "# Strings\n",
    "\n",
    "<span style=\"color: red;\"><b>Todos os exercícios são feitos partindo-se do pressuposto de que todas as entradas são dadas de forma correta. Casos limite não mencionados no enunciado não são abordados porque não fazem parte do exercício.</b></span>"
   ]
  },
  {
   "cell_type": "markdown",
   "id": "5b1f33b9",
   "metadata": {},
   "source": [
    "#### 1. Tamanho de strings. Faça um programa que leia 2 strings e informe o conteúdo delas seguido do seu comprimento. Informe também se as duas strings possuem o mesmo comprimento e são iguais ou diferentes no conteúdo.\n",
    "<pre>\n",
    "Compara duas strings\n",
    "String 1: Brasil Hexa 2006\n",
    "String 2: Brasil! Hexa 2006!\n",
    "Tamanho de \"Brasil Hexa 2006\": 16 caracteres\n",
    "Tamanho de \"Brasil! Hexa 2006!\": 18 caracteres\n",
    "As duas strings são de tamanhos diferentes.\n",
    "As duas strings possuem conteúdo diferente.\n",
    "</pre>"
   ]
  },
  {
   "cell_type": "code",
   "execution_count": 5,
   "id": "c492b657",
   "metadata": {},
   "outputs": [
    {
     "name": "stdout",
     "output_type": "stream",
     "text": [
      "Sua primeira frase foi : juliano\n",
      "Quantidade de caracteres: 7\n",
      "\n",
      "Sua segunda frase foi : juliano\n",
      "Quantidade de caracteres: 7\n",
      "\n",
      "As duas frases tem o mesmo número de caracteres\n",
      "\n",
      "As frases também são iguais\n",
      "\n"
     ]
    }
   ],
   "source": [
    "frase = input('Escreva uma frase: ')\n",
    "frase2 = input('Escreva outra frase: ')\n",
    "\n",
    "cont = len(frase)\n",
    "cont2 = len(frase2)\n",
    "\n",
    "print(f'Sua primeira frase foi : {frase}\\nQuantidade de caracteres: {cont}\\n')\n",
    "print(f'Sua segunda frase foi : {frase2}\\nQuantidade de caracteres: {cont2}\\n')\n",
    "\n",
    "if cont == cont2:\n",
    "    print('As duas frases tem o mesmo número de caracteres\\n')\n",
    "    if frase == frase2:\n",
    "        print('As frases também são iguais\\n')\n",
    "else:\n",
    "    print('As duas frases são diferentes\\n')\n",
    "\n"
   ]
  },
  {
   "cell_type": "markdown",
   "id": "c3068a53",
   "metadata": {},
   "source": [
    "#### 2. Valida e corrige número de telefone. Faça um programa que leia um número de telefone, e corrija o número no caso deste conter somente 7 dígitos, acrescentando o '3' na frente. O usuário pode informar o número com ou sem o traço separador.\n",
    "<pre>\n",
    "Valida e corrige número de telefone\n",
    "Telefone: 461-0133\n",
    "Telefone possui 7 dígitos. Vou acrescentar o digito três na frente.\n",
    "Telefone corrigido sem formatação: 34610133\n",
    "Telefone corrigido com formatação: 3461-0133\n",
    "</pre>"
   ]
  },
  {
   "cell_type": "code",
   "execution_count": 9,
   "id": "0308566d",
   "metadata": {},
   "outputs": [
    {
     "name": "stdout",
     "output_type": "stream",
     "text": [
      "telefone: 36715278\n"
     ]
    }
   ],
   "source": [
    "telefone = input('Insira seu telefone: ').replace('-', '').replace('.', '')\n",
    "\n",
    "if len(telefone) == 7:\n",
    "    telefone_atualizado = '3' + telefone\n",
    "    print(f'telefone: {telefone_atualizado}')\n",
    "\n",
    "elif len(telefone) == 8:\n",
    "    print(f'Telefone: {telefone}')\n",
    "\n",
    "else:\n",
    "    print('Telefone inválido')\n",
    "\n",
    "          \n",
    "\n"
   ]
  }
 ],
 "metadata": {
  "kernelspec": {
   "display_name": "Python 3 (ipykernel)",
   "language": "python",
   "name": "python3"
  },
  "language_info": {
   "codemirror_mode": {
    "name": "ipython",
    "version": 3
   },
   "file_extension": ".py",
   "mimetype": "text/x-python",
   "name": "python",
   "nbconvert_exporter": "python",
   "pygments_lexer": "ipython3",
   "version": "3.9.13"
  }
 },
 "nbformat": 4,
 "nbformat_minor": 5
}
