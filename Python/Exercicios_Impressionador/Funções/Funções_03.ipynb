{
 "cells": [
  {
   "cell_type": "markdown",
   "metadata": {},
   "source": [
    "# Exercícios\n",
    "\n",
    "### Antes de irmos para o desafio que apresentamos na última aula (que é bem mais complexo do que um exemplo simples) vamos resolver um exercício um pouco mais simples para treinar\n",
    "\n",
    "## 1. Cálculo do Percentual e da Lista de Vendedores\n",
    "\n",
    "- Queremos criar uma function que consiga identificar os vendedores que bateram uma meta, mas além disso, consigo já me dar como resposta o cálculo do % da lista de vendedores que bateu a meta (para eu não precisar calcular manualmente depois)\n",
    "- Essa function deve receber 2 informações como parâmetro: a meta e um dicionário com os vendedores e suas vendas. E me dar 2 respostas: uma lista com o nome dos vendedores que bateram a meta e o % de vendedores que bateu a meta."
   ]
  },
  {
   "cell_type": "code",
   "execution_count": 5,
   "metadata": {},
   "outputs": [],
   "source": [
    "meta = 10000\n",
    "vendas = {\n",
    "    'João': 15000,\n",
    "    'Julia': 27000,\n",
    "    'Marcus': 9900,\n",
    "    'Maria': 3750,\n",
    "    'Ana': 10300,\n",
    "    'Alon': 7870,\n",
    "}"
   ]
  },
  {
   "cell_type": "code",
   "execution_count": 18,
   "metadata": {},
   "outputs": [],
   "source": [
    "def meta(meta=10000, vendas=vendas):\n",
    "    \n",
    "    cumpriram_meta = []\n",
    "        \n",
    "    for chave, valor in vendas.items():\n",
    "        if valor > meta:\n",
    "            cumpriram_meta.append(chave)\n",
    "        \n",
    "    porcento_meta = len(cumpriram_meta) / len(vendas) * 100\n",
    "\n",
    "    return (cumpriram_meta, porcento_meta)"
   ]
  },
  {
   "cell_type": "code",
   "execution_count": 19,
   "metadata": {},
   "outputs": [
    {
     "name": "stdout",
     "output_type": "stream",
     "text": [
      "Lista de funcionários que atingiram a meta: \n",
      "Nome: João\n",
      "Nome: Julia\n",
      "Nome: Ana\n",
      "\n",
      "As metas foram atingidas por 50.00 % dos funcinários\n"
     ]
    }
   ],
   "source": [
    "funcionarios_meta, porcentagem = meta(vendas=vendas)\n",
    "\n",
    "print('Lista de funcionários que atingiram a meta: ')\n",
    "\n",
    "for valor in funcionarios_meta:\n",
    "    print('Nome: {}'.format(valor))\n",
    "\n",
    "print('\\nAs metas foram atingidas por {:.2f} % dos funcinários'.format(porcentagem))"
   ]
  }
 ],
 "metadata": {
  "kernelspec": {
   "display_name": "Python 3",
   "language": "python",
   "name": "python3"
  },
  "language_info": {
   "codemirror_mode": {
    "name": "ipython",
    "version": 3
   },
   "file_extension": ".py",
   "mimetype": "text/x-python",
   "name": "python",
   "nbconvert_exporter": "python",
   "pygments_lexer": "ipython3",
   "version": "3.12.0"
  }
 },
 "nbformat": 4,
 "nbformat_minor": 4
}
