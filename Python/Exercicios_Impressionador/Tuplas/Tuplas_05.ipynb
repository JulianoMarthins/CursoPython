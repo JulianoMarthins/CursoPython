{
 "cells": [
  {
   "cell_type": "markdown",
   "metadata": {},
   "source": [
    "# Exercícios\n",
    "\n",
    "São exercícios bem parecidos com os que fizemos com listas. Mas na tupla, podemos não só trabalhar com índices, mas fazer o \"unpacking\" das tuplas, o que pode facilitar nossos códigos.\n",
    "\n",
    "## 1. Análise de Vendas\n",
    "\n",
    "Nesse exercício vamos fazer uma \"análise simples\" de atingimento de Meta.\n",
    "\n",
    "Temos uma lista com os vendedores e os valores de vendas e queremos identificar (printar) quais os vendedores que bateram a meta e qual foi o valor que eles venderam."
   ]
  },
  {
   "cell_type": "code",
   "execution_count": 1,
   "metadata": {},
   "outputs": [
    {
     "name": "stdout",
     "output_type": "stream",
     "text": [
      "O vendedor João atingiu a menta com R$ 15000.00\n",
      "O vendedor Julia atingiu a menta com R$ 27000.00\n",
      "O vendedor Ana atingiu a menta com R$ 10300.00\n"
     ]
    }
   ],
   "source": [
    "meta = 10000\n",
    "vendas = [\n",
    "    ('João', 15000),\n",
    "    ('Julia', 27000),\n",
    "    ('Marcus', 9900),\n",
    "    ('Maria', 3750),\n",
    "    ('Ana', 10300),\n",
    "    ('Alon', 7870),\n",
    "]\n",
    "\n",
    "for valor in vendas:\n",
    "    nome, vendas_totais = valor\n",
    "\n",
    "    if vendas_totais > meta:\n",
    "        print(f'O vendedor {nome} atingiu a menta com R$ {vendas_totais:.2f}')\n",
    "    \n"
   ]
  },
  {
   "cell_type": "markdown",
   "metadata": {},
   "source": [
    "## 2. Comparação com Ano Anterior\n",
    "\n",
    "Digamos que você está analisando as vendas de produtos de um ecommerce e quer identificar quais produtos tiveram no ano de 2020 mais vendas do que no ano de 2019, para reportar isso para a diretoria.\n",
    "\n",
    "Sua resposta pode ser um print de cada produto, qual foi a venda de 2019, a venda de 2020 e o % de crescimento de 2020 para 2019.\n",
    "\n",
    "Lembrando, para calcular o % de crescimento de um produto de um ano para o outro, podemos fazer: (vendas_produto2020/vendas_produto2019 - 1)\n",
    "\n",
    "A lógica da tupla é: (produto, vendas2019, vendas2020)"
   ]
  },
  {
   "cell_type": "code",
   "execution_count": 12,
   "metadata": {},
   "outputs": [
    {
     "name": "stdout",
     "output_type": "stream",
     "text": [
      "Os produtos abaixo listados tiveram aumento de vendas neste ano de 2020\n",
      "Produto: Iphone                         Aumento: 70.50%\n",
      "Produto: Tv                             Aumento: 94.35%\n",
      "Produto: Máquina De Café                Aumento: 20.73%\n",
      "Produto: Notebook Dell                  Aumento: 64.38%\n",
      "Produto: Notebook Hp                    Aumento: 248.75%\n",
      "Produto: Microsoft Surface              Aumento: 52.15%\n",
      "Produto: Webcam                         Aumento: 24.49%\n",
      "Produto: Caixa De Som                   Aumento: 48.11%\n",
      "Produto: Microfone                      Aumento: 96.34%\n",
      "Produto: Câmera Canon                   Aumento: 68.21%\n"
     ]
    }
   ],
   "source": [
    "# Lógica Tupla => produto; vendas2019; vendas2020\n",
    "\n",
    "vendas_produtos = [\n",
    "    ('iphone', 558147, 951642),\n",
    "    ('galaxy', 712350, 244295),\n",
    "    ('ipad', 573823, 26964),\n",
    "    ('tv', 405252, 787604),\n",
    "    ('máquina de café', 718654, 867660),\n",
    "    ('kindle', 531580, 78830),\n",
    "    ('geladeira', 973139, 710331),\n",
    "    ('adega', 892292, 646016),\n",
    "    ('notebook dell', 422760, 694913),\n",
    "    ('notebook hp', 154753, 539704),\n",
    "    ('notebook asus', 887061, 324831),\n",
    "    ('microsoft surface', 438508, 667179),\n",
    "    ('webcam', 237467, 295633),\n",
    "    ('caixa de som', 489705, 725316),\n",
    "    ('microfone', 328311, 644622),\n",
    "    ('câmera canon', 591120, 994303)\n",
    "]\n",
    "\n",
    "\n",
    "print('Os produtos abaixo listados tiveram aumento de vendas neste ano de 2020')\n",
    "for valor in vendas_produtos:\n",
    "    produto, ano_2019, ano_2020 = valor\n",
    "\n",
    "\n",
    "    if ano_2020 > ano_2019:\n",
    "        porcento = ano_2020 * 100 / ano_2019 - 100\n",
    "        print(f'Produto: {produto:<30} Aumento: {porcento:.2f}%'.title())"
   ]
  }
 ],
 "metadata": {
  "kernelspec": {
   "display_name": "Python 3",
   "language": "python",
   "name": "python3"
  },
  "language_info": {
   "codemirror_mode": {
    "name": "ipython",
    "version": 3
   },
   "file_extension": ".py",
   "mimetype": "text/x-python",
   "name": "python",
   "nbconvert_exporter": "python",
   "pygments_lexer": "ipython3",
   "version": "3.12.0"
  }
 },
 "nbformat": 4,
 "nbformat_minor": 4
}
