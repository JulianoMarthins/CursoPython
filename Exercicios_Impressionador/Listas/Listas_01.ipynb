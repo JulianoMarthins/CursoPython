{
 "cells": [
  {
   "cell_type": "markdown",
   "metadata": {},
   "source": [
    "# Exercícios\n",
    "\n",
    "## 1. Faturamento do Melhor e do Pior Mês do Ano\n",
    "\n",
    "Qual foi o valor de vendas do melhor mês do Ano?\n",
    "E valor do pior mês do ano?"
   ]
  },
  {
   "cell_type": "code",
   "execution_count": 3,
   "metadata": {},
   "outputs": [
    {
     "name": "stdout",
     "output_type": "stream",
     "text": [
      "O melhor mês foi: nov\n",
      "Valor de venda: R$ 49,051.00\n",
      "\n",
      "O pior mês foi: dez\n",
      "Valor de venda: R$ 9,650.00\n"
     ]
    }
   ],
   "source": [
    "meses = ['jan', 'fev', 'mar', 'abr', 'mai', 'jun', 'jul', 'ago', 'set',\n",
    "    'out', 'nov', 'dez'\n",
    "    ]\n",
    "\n",
    "vendas_1sem = [25000, 29000, 22200, 17750, 15870, 19900]\n",
    "vendas_2sem = [19850, 20120, 17540, 15555, 49051, 9650]\n",
    "\n",
    "vendas_anuais = vendas_1sem + vendas_2sem\n",
    "\n",
    "melhor_venda = max(vendas_anuais)\n",
    "indice_maior = vendas_anuais.index(max(vendas_anuais))\n",
    "\n",
    "menor_venda = min(vendas_anuais)\n",
    "indice_menor = vendas_anuais.index(min(vendas_anuais))\n",
    "\n",
    "\n",
    "print('O melhor mês foi: {}'.format(meses[indice_maior]))\n",
    "print(f'Valor de venda: R$ {melhor_venda:,.2f}')\n",
    "\n",
    "print()\n",
    "print('O pior mês foi: {}'.format(meses[indice_menor]))\n",
    "print(f'Valor de venda: R$ {menor_venda:,.2f}')\n"
   ]
  },
  {
   "cell_type": "markdown",
   "metadata": {},
   "source": [
    "## 2. Continuação\n",
    "\n",
    "Agora relacione as duas listas para printar 'O melhor mês do ano foi {} com {} vendas' e o mesmo para o pior mês do ano.\n",
    "\n",
    "Calcule também o faturamento total do Ano e quanto que o melhor mês representou do faturamento total.\n",
    "\n",
    "Obs: Para o faturamento total, pode usar a função sum(lista) que soma todos os itens de uma lista"
   ]
  },
  {
   "cell_type": "code",
   "execution_count": 5,
   "metadata": {},
   "outputs": [
    {
     "name": "stdout",
     "output_type": "stream",
     "text": [
      "O melhor mês do ano foi nov\n",
      "O prio mês do ano foi dez\n",
      "Faturamento anual: R$ 261,486.00\n"
     ]
    }
   ],
   "source": [
    "print('O melhor mês do ano foi {}'.format(meses[indice_maior]))\n",
    "print('O prio mês do ano foi {}'.format(meses[indice_menor]))\n",
    "\n",
    "soma = sum(vendas_anuais)\n",
    "print('Faturamento anual: R$ {:,.2f}'.format(soma))"
   ]
  },
  {
   "cell_type": "markdown",
   "metadata": {},
   "source": [
    "## 3. Crie uma lista com o top 3 valores de vendas do ano (sem fazer \"no olho\")\n",
    "\n",
    "Dica: o método remove retira um item da lista."
   ]
  },
  {
   "cell_type": "code",
   "execution_count": 7,
   "metadata": {},
   "outputs": [
    {
     "name": "stdout",
     "output_type": "stream",
     "text": [
      "Lista dos três meses de melhores vendas\n",
      "1° -  49051\n",
      "2° -  29000\n",
      "3° -  25000\n"
     ]
    }
   ],
   "source": [
    "top3 = []\n",
    "\n",
    "lista_adicional = vendas_anuais\n",
    "\n",
    "print('Lista dos três meses de melhores vendas')\n",
    "\n",
    "melhor = max(lista_adicional)\n",
    "print('1° - ', melhor)\n",
    "\n",
    "lista_adicional.remove(melhor)\n",
    "melhor = max(lista_adicional)\n",
    "print('2° - ', melhor)\n",
    "\n",
    "lista_adicional.remove(melhor)\n",
    "melhor = max(lista_adicional)\n",
    "print('3° - ', melhor)"
   ]
  }
 ],
 "metadata": {
  "kernelspec": {
   "display_name": "Python 3",
   "language": "python",
   "name": "python3"
  },
  "language_info": {
   "codemirror_mode": {
    "name": "ipython",
    "version": 3
   },
   "file_extension": ".py",
   "mimetype": "text/x-python",
   "name": "python",
   "nbconvert_exporter": "python",
   "pygments_lexer": "ipython3",
   "version": "3.12.0"
  }
 },
 "nbformat": 4,
 "nbformat_minor": 4
}
